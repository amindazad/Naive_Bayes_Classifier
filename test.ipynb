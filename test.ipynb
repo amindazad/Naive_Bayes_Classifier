{
 "metadata": {
  "language_info": {
   "codemirror_mode": {
    "name": "ipython",
    "version": 3
   },
   "file_extension": ".py",
   "mimetype": "text/x-python",
   "name": "python",
   "nbconvert_exporter": "python",
   "pygments_lexer": "ipython3",
   "version": 3
  },
  "orig_nbformat": 2,
  "kernelspec": {
   "name": "python_defaultSpec_1596145886147",
   "display_name": "Python 3.8.2 64-bit"
  }
 },
 "nbformat": 4,
 "nbformat_minor": 2,
 "cells": [
  {
   "cell_type": "code",
   "execution_count": 8,
   "metadata": {},
   "outputs": [
    {
     "output_type": "execute_result",
     "data": {
      "text/plain": "['1',\n '14.23',\n '1.71',\n '2.43',\n '15.6',\n '127',\n '2.8',\n '3.06',\n '.28',\n '2.29',\n '5.64',\n '1.04',\n '3.92',\n '1065']"
     },
     "metadata": {},
     "execution_count": 8
    }
   ],
   "source": [
    "# importing and reading the wine data \n",
    "from csv import reader\n",
    "import random\n",
    "\n",
    "def load_csv(filename):\n",
    "    dataset = list()\n",
    "    with open(filename, 'r') as file:\n",
    "        csv_reader = reader(file)\n",
    "        for row in csv_reader:\n",
    "            if not row:\n",
    "                continue\n",
    "            dataset.append(row)\n",
    "    return dataset\n",
    "\n",
    "df = load_csv('wine.data')\n",
    "df[0]"
   ]
  },
  {
   "cell_type": "code",
   "execution_count": 10,
   "metadata": {},
   "outputs": [
    {
     "output_type": "execute_result",
     "data": {
      "text/plain": "float"
     },
     "metadata": {},
     "execution_count": 10
    }
   ],
   "source": [
    "# Converting strings to floats\n",
    "for i in range(len(df)):\n",
    "    for j in range(len(df[i])):\n",
    "        df[i][j]=float(df[i][j])\n",
    "#Checking if converted right\n",
    "type(df[0][0])"
   ]
  },
  {
   "cell_type": "code",
   "execution_count": 11,
   "metadata": {},
   "outputs": [],
   "source": [
    "# Split data into train and test\n",
    "def split_data(data, weight):\n",
    "    \"\"\"\n",
    "    Random split of a data set into training and test data sets\n",
    "    \n",
    "    Parameters:\n",
    "    -----------\n",
    "    data: array-like, dataset\n",
    "    weight: float, percentage of data to be used as training\n",
    "    \n",
    "    Returns:\n",
    "    List of two datasets\n",
    "    \"\"\"\n",
    "    train_length = int(len(data) * weight)\n",
    "    train = []\n",
    "    for i in range(train_length):\n",
    "        idx = random.randrange(len(data))\n",
    "        train.append(data[idx])\n",
    "        data.pop(idx)\n",
    "    return [train, data]\n",
    "\n",
    "train, test = split_data(df, 0.8)\n"
   ]
  },
  {
   "cell_type": "code",
   "execution_count": 12,
   "metadata": {},
   "outputs": [],
   "source": [
    "# Define target and features\n",
    "# Target is the first column in the wine dataset\n",
    "\n",
    "X_train = []\n",
    "y_train = []\n",
    "X_test = []\n",
    "y_test = []\n",
    "\n",
    "for i in range(len(train)):\n",
    "    y_train.append(train[i][0])\n",
    "    X_train.append(train[i][1:])\n",
    "    \n",
    "for i in range(len(test)):\n",
    "    y_test.append(test[i][0])\n",
    "    X_test.append(test[i][1:])\n"
   ]
  },
  {
   "cell_type": "code",
   "execution_count": 13,
   "metadata": {
    "tags": []
   },
   "outputs": [
    {
     "output_type": "stream",
     "name": "stdout",
     "text": "NaiveBayesClassifier accuracy: 0.972\n"
    }
   ],
   "source": [
    "from Naive_Bayes_from_Scratch import NaiveBayesClassifier\n",
    "\n",
    "model = NaiveBayesClassifier()\n",
    "model.fit(X_train, y_train)\n",
    "y_pred = model.predict(X_test)\n",
    "print (\"NaiveBayesClassifier accuracy: {0:.3f}\".format(model.accuracy(y_test, y_pred)))\n"
   ]
  },
  {
   "cell_type": "code",
   "execution_count": 14,
   "metadata": {
    "tags": []
   },
   "outputs": [
    {
     "output_type": "stream",
     "name": "stdout",
     "text": "Scikit-learn GaussianNB accuracy: 0.972\n"
    }
   ],
   "source": [
    "from sklearn.naive_bayes import GaussianNB\n",
    "from sklearn.metrics import accuracy_score\n",
    "\n",
    "model = GaussianNB()\n",
    "model.fit(X_train, y_train)\n",
    "y_pred = model.predict(X_test)\n",
    "print (\"Scikit-learn GaussianNB accuracy: {0:.3f}\".format(accuracy_score(y_test, y_pred)))"
   ]
  }
 ]
}